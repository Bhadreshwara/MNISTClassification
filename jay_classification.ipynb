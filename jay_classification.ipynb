{
 "cells": [
  {
   "cell_type": "code",
   "execution_count": null,
   "metadata": {},
   "outputs": [],
   "source": [
    "import numpy as np\n",
    "import matplotlib.pyplot as plt\n",
    "import matplotlib as mpl"
   ]
  },
  {
   "cell_type": "code",
   "execution_count": null,
   "metadata": {},
   "outputs": [],
   "source": [
    "np.random.seed(40)"
   ]
  },
  {
   "cell_type": "markdown",
   "metadata": {},
   "source": [
    "### Load & check the data:"
   ]
  },
  {
   "cell_type": "code",
   "execution_count": null,
   "metadata": {},
   "outputs": [],
   "source": [
    "# Loading the MNIST dataset from sklearn\n",
    "from sklearn.datasets import fetch_openml\n",
    "mnist_jay = fetch_openml('mnist_784', version=1, as_frame=True)\n",
    "mnist_jay.keys()"
   ]
  },
  {
   "cell_type": "code",
   "execution_count": null,
   "metadata": {},
   "outputs": [],
   "source": [
    "#Assign the data and target to a ndarray\n",
    "X_jay, y_jay = mnist_jay['data'], mnist_jay['target']\n",
    "X_jay.shape, y_jay.shape"
   ]
  },
  {
   "cell_type": "code",
   "execution_count": null,
   "metadata": {},
   "outputs": [],
   "source": [
    "# print the type of X_jay\n",
    "print(type(X_jay))\n",
    "print(type(y_jay))"
   ]
  },
  {
   "cell_type": "code",
   "execution_count": null,
   "metadata": {},
   "outputs": [],
   "source": [
    "some_digit = X_jay.to_numpy()[7]\n",
    "some_digit_image = some_digit.reshape(28, 28)\n",
    "plt.imshow(some_digit_image, cmap=mpl.cm.binary)\n",
    "plt.axis(\"off\")\n",
    "plt.show()"
   ]
  },
  {
   "cell_type": "code",
   "execution_count": null,
   "metadata": {},
   "outputs": [],
   "source": [
    "y_jay[7]"
   ]
  },
  {
   "cell_type": "code",
   "execution_count": null,
   "metadata": {},
   "outputs": [],
   "source": [
    "y_jay = y_jay.astype(np.uint8)"
   ]
  },
  {
   "cell_type": "code",
   "execution_count": null,
   "metadata": {},
   "outputs": [],
   "source": [
    "some_digit = X_jay.to_numpy()[7]\n",
    "some_digit_image = some_digit.reshape(28, 28)"
   ]
  },
  {
   "cell_type": "code",
   "execution_count": null,
   "metadata": {},
   "outputs": [],
   "source": [
    "plt.imshow(some_digit_image, cmap=mpl.cm.binary, interpolation=\"nearest\")\n",
    "plt.axis(\"off\")\n",
    "plt.show()"
   ]
  },
  {
   "cell_type": "code",
   "execution_count": null,
   "metadata": {},
   "outputs": [],
   "source": [
    "some_digit1 = X_jay.to_numpy()[7]\n",
    "some_digit2 = X_jay.to_numpy()[5]\n",
    "some_digit3 = X_jay.to_numpy()[0]"
   ]
  },
  {
   "cell_type": "code",
   "execution_count": null,
   "metadata": {},
   "outputs": [],
   "source": [
    "# Use imshow method to plot the values of the three variables you defined in the above point.   \n",
    "plt.imshow(some_digit1.reshape(28, 28), cmap=mpl.cm.binary, interpolation='nearest')\n",
    "display(plt.show())\n",
    "plt.imshow(some_digit2.reshape(28, 28), cmap=mpl.cm.binary, interpolation='nearest')\n",
    "display(plt.show())\n",
    "plt.imshow(some_digit3.reshape(28, 28), cmap=mpl.cm.binary, interpolation='nearest')\n",
    "display(plt.show())\n"
   ]
  },
  {
   "cell_type": "markdown",
   "metadata": {},
   "source": [
    "### Pre-process the data"
   ]
  },
  {
   "cell_type": "code",
   "execution_count": null,
   "metadata": {},
   "outputs": [],
   "source": [
    "#\tThe current target values range from 0 to 9 i.e. 10 classes. Transform the target variable to 3 classes as follows:\n",
    "# a.\tAny digit between 0 and 3 inclusive should be assigned a target value of 0\n",
    "# b.\tAny digit between 4 and 6 inclusive should be assigned a target value of 1\n",
    "# c.\tAny digit between 7 and 9 inclusive should be assigned a target value of 9\n",
    "# d.\tUse the following code to do this:\n",
    "y_jay_new = np.where(y_jay < 4, 0, y_jay)\n",
    "y_jay_new = np.where((y_jay_new > 3) & (y_jay_new < 7) , 1, y_jay_new)\n",
    "y_jay_new = np.where((y_jay_new > 6) & (y_jay_new < 10), 9, y_jay_new)\n",
    "print(y_jay_new)\n"
   ]
  },
  {
   "cell_type": "code",
   "execution_count": null,
   "metadata": {},
   "outputs": [],
   "source": [
    "# Print the frequencies of each of the three target classes in y_jay_new\n",
    "unique, counts = np.unique(y_jay_new, return_counts=True)\n",
    "print(np.asarray((unique, counts)).T)"
   ]
  },
  {
   "cell_type": "code",
   "execution_count": null,
   "metadata": {},
   "outputs": [],
   "source": [
    "# Split your data into train test. Assign the first 60,000 records for training and the last 10,000 records for testing. \n",
    "X_train, X_test = X_jay[:60000], X_jay[60000:]\n",
    "y_train, y_test = y_jay_new[:60000], y_jay_new[60000:]"
   ]
  },
  {
   "cell_type": "markdown",
   "metadata": {},
   "source": [
    "### Build Classification Models"
   ]
  },
  {
   "cell_type": "code",
   "execution_count": null,
   "metadata": {},
   "outputs": [],
   "source": [
    "# Train a Naive Bayes classifier using the training data. Name the classifier NB_clf_firstname.\n",
    "from sklearn.naive_bayes import GaussianNB\n",
    "NB_clf_jay = GaussianNB()\n",
    "NB_clf_jay.fit(X_train, y_train)\n",
    "\n",
    "# Predict the class labels for the test data using the trained classifier. Assign the result to y_pred_firstname.\n",
    "y_pred_jay = NB_clf_jay.predict(X_test)\n",
    "print(y_pred_jay)\n"
   ]
  },
  {
   "cell_type": "code",
   "execution_count": null,
   "metadata": {},
   "outputs": [],
   "source": [
    "# Train a SGD classifier using the training data. Name the classifier SGD_clf_firstname.\n",
    "from sklearn.linear_model import SGDClassifier\n",
    "SGD_clf_jay = SGDClassifier()\n",
    "SGD_clf_jay.fit(X_train, y_train)\n",
    "\n",
    "# Predict the class labels for the test data using the trained classifier. Assign the result to y_pred_firstname.\n",
    "y_pred_jay = SGD_clf_jay.predict(X_test)\n",
    "print(y_pred_jay)\n"
   ]
  },
  {
   "cell_type": "code",
   "execution_count": null,
   "metadata": {},
   "outputs": [],
   "source": [
    "# Use the classifier to predict the three variables you defined in point 7 above.\n",
    "print(NB_clf_jay.predict([some_digit1]))\n",
    "print(NB_clf_jay.predict([some_digit2]))\n",
    "print(NB_clf_jay.predict([some_digit3]))"
   ]
  },
  {
   "cell_type": "code",
   "execution_count": null,
   "metadata": {},
   "outputs": [],
   "source": [
    "# Predict the class labels for the test data using the trained classifier. Assign the result to y_pred_firstname1.\n",
    "y_pred_jay1 = SGD_clf_jay.predict(X_test)\n",
    "# Use the classifier to predict the three variables you defined in point 7 above.\n",
    "print(SGD_clf_jay.predict([some_digit1]))\n",
    "print(SGD_clf_jay.predict([some_digit2]))\n",
    "print(SGD_clf_jay.predict([some_digit3]))\n"
   ]
  },
  {
   "cell_type": "code",
   "execution_count": null,
   "metadata": {},
   "outputs": [],
   "source": [
    "# Print the accuracy of the classifier on the test data.\n",
    "print(NB_clf_jay.score(X_test, y_test) * 100)\n",
    "\n",
    "# Print the accuracy of the classifier on the test data.\n",
    "print(SGD_clf_jay.score(X_test, y_test) * 100)\n"
   ]
  },
  {
   "cell_type": "code",
   "execution_count": null,
   "metadata": {},
   "outputs": [],
   "source": [
    "# Train a KNN classifier using the training data. Name the classifier KNN_clf_firstname.\n",
    "from sklearn.neighbors import KNeighborsClassifier\n",
    "KNN_clf_jay = KNeighborsClassifier()\n",
    "KNN_clf_jay.fit(X_train, y_train)\n",
    "\n",
    "# Predict the class labels for the test data using the trained classifier. Assign the result to y_pred_firstname.\n",
    "y_pred_jay = KNN_clf_jay.predict(X_test)\n",
    "print(y_pred_jay)\n",
    "\n",
    "# Predict the class labels for the test data using the trained classifier. Assign the result to y_pred_firstname2.\n",
    "y_pred_jay2 = KNN_clf_jay.predict(X_test)\n",
    "# Use the classifier to predict the three variables you defined in point 7 above.\n",
    "print(KNN_clf_jay.predict([some_digit1]))\n",
    "print(KNN_clf_jay.predict([some_digit2]))\n",
    "print(KNN_clf_jay.predict([some_digit3]))\n",
    "\n",
    "print(KNN_clf_jay.score(X_test, y_test) * 100)\n"
   ]
  },
  {
   "cell_type": "code",
   "execution_count": null,
   "metadata": {},
   "outputs": [],
   "source": []
  }
 ],
 "metadata": {
  "interpreter": {
   "hash": "770021e68aae5e5bc49f7a3b6edb919a4a251fef8e7696fd47196c25263b13c4"
  },
  "kernelspec": {
   "display_name": "Python 3.9.7 64-bit",
   "language": "python",
   "name": "python3"
  },
  "language_info": {
   "codemirror_mode": {
    "name": "ipython",
    "version": 3
   },
   "file_extension": ".py",
   "mimetype": "text/x-python",
   "name": "python",
   "nbconvert_exporter": "python",
   "pygments_lexer": "ipython3",
   "version": "3.9.7"
  },
  "orig_nbformat": 4
 },
 "nbformat": 4,
 "nbformat_minor": 2
}
